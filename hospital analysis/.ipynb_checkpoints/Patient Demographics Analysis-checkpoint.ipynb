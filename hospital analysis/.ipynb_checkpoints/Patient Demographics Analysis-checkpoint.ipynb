{
 "cells": [
  {
   "cell_type": "code",
   "execution_count": 94,
   "id": "83a84a7d",
   "metadata": {},
   "outputs": [],
   "source": [
    "#importing data set\n",
    "import pandas as pd \n",
    "\n",
    "df = pd.read_csv(r'E:\\final project\\Hospital ER.CSV')"
   ]
  },
  {
   "cell_type": "code",
   "execution_count": 96,
   "id": "3599c353",
   "metadata": {},
   "outputs": [
    {
     "name": "stdout",
     "output_type": "stream",
     "text": [
      "date                    0\n",
      "patient_id              0\n",
      "patient_gender          0\n",
      "patient_age             0\n",
      "patient_sat_score       0\n",
      "patient_first_inital    0\n",
      "patient_last_name       0\n",
      "patient_race            0\n",
      "patient_admin_flag      0\n",
      "patient_waittime        0\n",
      "department_referral     0\n",
      "dtype: int64\n"
     ]
    }
   ],
   "source": [
    "# Check for missing values\n",
    "# Drop rows with NaN values\n",
    "df.dropna(inplace=True)\n",
    "\n",
    "# Check if there are any remaining null values\n",
    "print(df.isnull().sum())\n"
   ]
  },
  {
   "cell_type": "code",
   "execution_count": 98,
   "id": "df6e6e6d",
   "metadata": {},
   "outputs": [
    {
     "data": {
      "text/html": [
       "<div>\n",
       "<style scoped>\n",
       "    .dataframe tbody tr th:only-of-type {\n",
       "        vertical-align: middle;\n",
       "    }\n",
       "\n",
       "    .dataframe tbody tr th {\n",
       "        vertical-align: top;\n",
       "    }\n",
       "\n",
       "    .dataframe thead th {\n",
       "        text-align: right;\n",
       "    }\n",
       "</style>\n",
       "<table border=\"1\" class=\"dataframe\">\n",
       "  <thead>\n",
       "    <tr style=\"text-align: right;\">\n",
       "      <th></th>\n",
       "      <th>date</th>\n",
       "      <th>patient_id</th>\n",
       "      <th>patient_gender</th>\n",
       "      <th>patient_age</th>\n",
       "      <th>patient_sat_score</th>\n",
       "      <th>patient_first_inital</th>\n",
       "      <th>patient_last_name</th>\n",
       "      <th>patient_race</th>\n",
       "      <th>patient_admin_flag</th>\n",
       "      <th>patient_waittime</th>\n",
       "      <th>department_referral</th>\n",
       "    </tr>\n",
       "  </thead>\n",
       "  <tbody>\n",
       "    <tr>\n",
       "      <th>2</th>\n",
       "      <td>6/20/2020 9:13</td>\n",
       "      <td>897-46-3852</td>\n",
       "      <td>F</td>\n",
       "      <td>56</td>\n",
       "      <td>9.0</td>\n",
       "      <td>P</td>\n",
       "      <td>Schubuser</td>\n",
       "      <td>African American</td>\n",
       "      <td>True</td>\n",
       "      <td>55</td>\n",
       "      <td>General Practice</td>\n",
       "    </tr>\n",
       "    <tr>\n",
       "      <th>3</th>\n",
       "      <td>2/4/2020 22:34</td>\n",
       "      <td>358-31-9711</td>\n",
       "      <td>F</td>\n",
       "      <td>24</td>\n",
       "      <td>8.0</td>\n",
       "      <td>U</td>\n",
       "      <td>Titcombe</td>\n",
       "      <td>Native American/Alaska Native</td>\n",
       "      <td>True</td>\n",
       "      <td>31</td>\n",
       "      <td>General Practice</td>\n",
       "    </tr>\n",
       "    <tr>\n",
       "      <th>33</th>\n",
       "      <td>8/5/2020 1:33</td>\n",
       "      <td>278-49-6531</td>\n",
       "      <td>F</td>\n",
       "      <td>74</td>\n",
       "      <td>0.0</td>\n",
       "      <td>L</td>\n",
       "      <td>Vannacci</td>\n",
       "      <td>White</td>\n",
       "      <td>False</td>\n",
       "      <td>20</td>\n",
       "      <td>Physiotherapy</td>\n",
       "    </tr>\n",
       "    <tr>\n",
       "      <th>54</th>\n",
       "      <td>10/24/2020 4:53</td>\n",
       "      <td>298-72-2588</td>\n",
       "      <td>M</td>\n",
       "      <td>74</td>\n",
       "      <td>9.0</td>\n",
       "      <td>E</td>\n",
       "      <td>Lillistone</td>\n",
       "      <td>Two or More Races</td>\n",
       "      <td>True</td>\n",
       "      <td>48</td>\n",
       "      <td>General Practice</td>\n",
       "    </tr>\n",
       "    <tr>\n",
       "      <th>68</th>\n",
       "      <td>9/23/2019 23:51</td>\n",
       "      <td>509-88-2899</td>\n",
       "      <td>M</td>\n",
       "      <td>14</td>\n",
       "      <td>4.0</td>\n",
       "      <td>F</td>\n",
       "      <td>Brudenell</td>\n",
       "      <td>Two or More Races</td>\n",
       "      <td>True</td>\n",
       "      <td>23</td>\n",
       "      <td>Orthopedics</td>\n",
       "    </tr>\n",
       "    <tr>\n",
       "      <th>...</th>\n",
       "      <td>...</td>\n",
       "      <td>...</td>\n",
       "      <td>...</td>\n",
       "      <td>...</td>\n",
       "      <td>...</td>\n",
       "      <td>...</td>\n",
       "      <td>...</td>\n",
       "      <td>...</td>\n",
       "      <td>...</td>\n",
       "      <td>...</td>\n",
       "      <td>...</td>\n",
       "    </tr>\n",
       "    <tr>\n",
       "      <th>9182</th>\n",
       "      <td>1/7/2020 10:32</td>\n",
       "      <td>421-15-9145</td>\n",
       "      <td>M</td>\n",
       "      <td>77</td>\n",
       "      <td>3.0</td>\n",
       "      <td>F</td>\n",
       "      <td>Brunsen</td>\n",
       "      <td>Asian</td>\n",
       "      <td>True</td>\n",
       "      <td>28</td>\n",
       "      <td>Orthopedics</td>\n",
       "    </tr>\n",
       "    <tr>\n",
       "      <th>9183</th>\n",
       "      <td>8/25/2020 7:17</td>\n",
       "      <td>243-38-7373</td>\n",
       "      <td>M</td>\n",
       "      <td>27</td>\n",
       "      <td>7.0</td>\n",
       "      <td>B</td>\n",
       "      <td>Pool</td>\n",
       "      <td>White</td>\n",
       "      <td>True</td>\n",
       "      <td>38</td>\n",
       "      <td>Cardiology</td>\n",
       "    </tr>\n",
       "    <tr>\n",
       "      <th>9186</th>\n",
       "      <td>11/20/2019 20:09</td>\n",
       "      <td>323-59-6278</td>\n",
       "      <td>M</td>\n",
       "      <td>13</td>\n",
       "      <td>5.0</td>\n",
       "      <td>U</td>\n",
       "      <td>Condie</td>\n",
       "      <td>White</td>\n",
       "      <td>False</td>\n",
       "      <td>53</td>\n",
       "      <td>General Practice</td>\n",
       "    </tr>\n",
       "    <tr>\n",
       "      <th>9203</th>\n",
       "      <td>8/19/2019 23:35</td>\n",
       "      <td>196-37-4530</td>\n",
       "      <td>F</td>\n",
       "      <td>3</td>\n",
       "      <td>5.0</td>\n",
       "      <td>O</td>\n",
       "      <td>Lovewell</td>\n",
       "      <td>White</td>\n",
       "      <td>False</td>\n",
       "      <td>42</td>\n",
       "      <td>General Practice</td>\n",
       "    </tr>\n",
       "    <tr>\n",
       "      <th>9206</th>\n",
       "      <td>1/4/2020 0:13</td>\n",
       "      <td>880-01-0115</td>\n",
       "      <td>M</td>\n",
       "      <td>43</td>\n",
       "      <td>10.0</td>\n",
       "      <td>K</td>\n",
       "      <td>Burness</td>\n",
       "      <td>African American</td>\n",
       "      <td>True</td>\n",
       "      <td>32</td>\n",
       "      <td>Physiotherapy</td>\n",
       "    </tr>\n",
       "  </tbody>\n",
       "</table>\n",
       "<p>1077 rows × 11 columns</p>\n",
       "</div>"
      ],
      "text/plain": [
       "                  date   patient_id patient_gender  patient_age  \\\n",
       "2       6/20/2020 9:13  897-46-3852              F           56   \n",
       "3       2/4/2020 22:34  358-31-9711              F           24   \n",
       "33       8/5/2020 1:33  278-49-6531              F           74   \n",
       "54     10/24/2020 4:53  298-72-2588              M           74   \n",
       "68     9/23/2019 23:51  509-88-2899              M           14   \n",
       "...                ...          ...            ...          ...   \n",
       "9182    1/7/2020 10:32  421-15-9145              M           77   \n",
       "9183    8/25/2020 7:17  243-38-7373              M           27   \n",
       "9186  11/20/2019 20:09  323-59-6278              M           13   \n",
       "9203   8/19/2019 23:35  196-37-4530              F            3   \n",
       "9206     1/4/2020 0:13  880-01-0115              M           43   \n",
       "\n",
       "      patient_sat_score patient_first_inital patient_last_name  \\\n",
       "2                   9.0                    P         Schubuser   \n",
       "3                   8.0                    U          Titcombe   \n",
       "33                  0.0                    L          Vannacci   \n",
       "54                  9.0                    E        Lillistone   \n",
       "68                  4.0                    F         Brudenell   \n",
       "...                 ...                  ...               ...   \n",
       "9182                3.0                    F           Brunsen   \n",
       "9183                7.0                    B              Pool   \n",
       "9186                5.0                    U            Condie   \n",
       "9203                5.0                    O          Lovewell   \n",
       "9206               10.0                    K           Burness   \n",
       "\n",
       "                       patient_race  patient_admin_flag  patient_waittime  \\\n",
       "2                  African American                True                55   \n",
       "3     Native American/Alaska Native                True                31   \n",
       "33                            White               False                20   \n",
       "54                Two or More Races                True                48   \n",
       "68                Two or More Races                True                23   \n",
       "...                             ...                 ...               ...   \n",
       "9182                          Asian                True                28   \n",
       "9183                          White                True                38   \n",
       "9186                          White               False                53   \n",
       "9203                          White               False                42   \n",
       "9206               African American                True                32   \n",
       "\n",
       "     department_referral  \n",
       "2       General Practice  \n",
       "3       General Practice  \n",
       "33         Physiotherapy  \n",
       "54      General Practice  \n",
       "68           Orthopedics  \n",
       "...                  ...  \n",
       "9182         Orthopedics  \n",
       "9183          Cardiology  \n",
       "9186    General Practice  \n",
       "9203    General Practice  \n",
       "9206       Physiotherapy  \n",
       "\n",
       "[1077 rows x 11 columns]"
      ]
     },
     "execution_count": 98,
     "metadata": {},
     "output_type": "execute_result"
    }
   ],
   "source": [
    "#delete duplicate cells\n",
    "df['patient_id'].drop_duplicates(inplace=True)\n",
    "df"
   ]
  },
  {
   "cell_type": "code",
   "execution_count": 104,
   "id": "dc826c53",
   "metadata": {},
   "outputs": [
    {
     "name": "stdout",
     "output_type": "stream",
     "text": [
      "  patient_gender    Avg_Age\n",
      "0              F  39.650505\n",
      "1              M  39.858621\n",
      "2             NC  65.500000\n"
     ]
    }
   ],
   "source": [
    "#grouping patient gender with age avarage\n",
    "gender_by_age = df.groupby('patient_gender', as_index=False).agg(Avg_Age=('patient_age', 'mean'))\n",
    "print(gender_by_age)"
   ]
  },
  {
   "cell_type": "code",
   "execution_count": 106,
   "id": "35e67da5",
   "metadata": {},
   "outputs": [
    {
     "name": "stdout",
     "output_type": "stream",
     "text": [
      "                    patient_race    Avg_Age\n",
      "0               African American  37.903084\n",
      "1                          Asian  41.647059\n",
      "2           Declined to Identify  41.245763\n",
      "3  Native American/Alaska Native  42.225806\n",
      "4               Pacific Islander  41.685185\n",
      "5              Two or More Races  39.292135\n",
      "6                          White  39.454545\n"
     ]
    }
   ],
   "source": [
    "#grouping patient race with age avg\n",
    "race_by_age = df.groupby('patient_race', as_index=False).agg(Avg_Age=('patient_age', 'mean'))\n",
    "print(race_by_age)"
   ]
  },
  {
   "cell_type": "code",
   "execution_count": 108,
   "id": "0ec7872c",
   "metadata": {},
   "outputs": [
    {
     "data": {
      "image/png": "[encoded data removed]",
      "text/plain": [
       "<Figure size 400x200 with 1 Axes>"
      ]
     },
     "metadata": {},
     "output_type": "display_data"
    }
   ],
   "source": [
    "#visualizing gender distribution \n",
    "import matplotlib.pyplot as plt\n",
    "\n",
    "gender_count=df['patient_gender'].value_counts()\n",
    "\n",
    "# Plot bar chart for gender distribution\n",
    "plt.figure(figsize=(4, 2))\n",
    "gender_count.plot(kind='bar', color=['lightblue', 'pink'], edgecolor='black')\n",
    "plt.title('Gender Distribution', fontsize=12)\n",
    "plt.xlabel('patient_gender', fontsize=10)\n",
    "plt.ylabel('gender_count', fontsize=10)\n",
    "plt.xticks(rotation=0)\n",
    "plt.show()"
   ]
  },
  {
   "cell_type": "code",
   "execution_count": 110,
   "id": "11631bf3",
   "metadata": {},
   "outputs": [
    {
     "name": "stdout",
     "output_type": "stream",
     "text": [
      "patient_gender\n",
      "M     580\n",
      "F     495\n",
      "NC      2\n",
      "Name: count, dtype: int64\n"
     ]
    }
   ],
   "source": [
    "print(gender_count)"
   ]
  },
  {
   "cell_type": "code",
   "execution_count": 122,
   "id": "9c5825c4",
   "metadata": {},
   "outputs": [
    {
     "data": {
      "image/png": "[encoded data removed]",
      "text/plain": [
       "<Figure size 400x400 with 1 Axes>"
      ]
     },
     "metadata": {},
     "output_type": "display_data"
    }
   ],
   "source": [
    "#visualizing age distibution \n",
    "avg_age=df['patient_age'].mean()\n",
    "\n",
    "# Plot bar chart for gender distribution\n",
    "plt.figure(figsize=(4, 4))\n",
    "plt.hist(df['patient_age'], bins=5, color='lightblue', edgecolor='black')\n",
    "plt.title('Age Distribution of Patients', fontsize=12)\n",
    "plt.xlabel('Age', fontsize=10)\n",
    "plt.ylabel('Frequency', fontsize=10)\n",
    "plt.show()"
   ]
  },
  {
   "cell_type": "code",
   "execution_count": 114,
   "id": "67e00311",
   "metadata": {},
   "outputs": [
    {
     "data": {
      "image/png": "[encoded data removed]",
      "text/plain": [
       "<Figure size 1700x500 with 1 Axes>"
      ]
     },
     "metadata": {},
     "output_type": "display_data"
    }
   ],
   "source": [
    "# Calculate patient counts per region\n",
    "region_counts = df['patient_race'].value_counts()\n",
    "\n",
    "# Plot bar chart for regional distribution\n",
    "plt.figure(figsize=(17, 5))\n",
    "region_counts.plot(kind='bar', color='#33AFCE', edgecolor='black')\n",
    "plt.title('Regional Distribution of Patients', fontsize=16)\n",
    "plt.xlabel('Region', fontsize=14)\n",
    "plt.ylabel('Number of Patients', fontsize=14)\n",
    "plt.xticks(rotation=0)\n",
    "plt.show()"
   ]
  },
  {
   "cell_type": "code",
   "execution_count": 102,
   "id": "ac50846f-1256-4c10-bc1b-1a029be839cf",
   "metadata": {},
   "outputs": [],
   "source": [
    "df.to_csv('new_file.csv', index=False)"
   ]
  },
  {
   "cell_type": "code",
   "execution_count": null,
   "id": "6ca8fd83-6dc2-441e-90f3-ccd0278733e1",
   "metadata": {},
   "outputs": [],
   "source": []
  }
 ],
 "metadata": {
  "kernelspec": {
   "display_name": "Python 3 (ipykernel)",
   "language": "python",
   "name": "python3"
  },
  "language_info": {
   "codemirror_mode": {
    "name": "ipython",
    "version": 3
   },
   "file_extension": ".py",
   "mimetype": "text/x-python",
   "name": "python",
   "nbconvert_exporter": "python",
   "pygments_lexer": "ipython3",
   "version": "3.12.4"
  }
 },
 "nbformat": 4,
 "nbformat_minor": 5
}
